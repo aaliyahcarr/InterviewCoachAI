{
 "cells": [
  {
   "cell_type": "code",
   "execution_count": 7,
   "metadata": {},
   "outputs": [
    {
     "name": "stdout",
     "output_type": "stream",
     "text": [
      "Defaulting to user installation because normal site-packages is not writeable\n",
      "Requirement already satisfied: wolframalpha in c:\\users\\micha\\appdata\\local\\packages\\pythonsoftwarefoundation.python.3.12_qbz5n2kfra8p0\\localcache\\local-packages\\python312\\site-packages (5.1.3)\n",
      "Requirement already satisfied: xmltodict in c:\\users\\micha\\appdata\\local\\packages\\pythonsoftwarefoundation.python.3.12_qbz5n2kfra8p0\\localcache\\local-packages\\python312\\site-packages (from wolframalpha) (0.14.2)\n",
      "Requirement already satisfied: more-itertools in c:\\users\\micha\\appdata\\local\\packages\\pythonsoftwarefoundation.python.3.12_qbz5n2kfra8p0\\localcache\\local-packages\\python312\\site-packages (from wolframalpha) (10.3.0)\n",
      "Requirement already satisfied: jaraco.context in c:\\users\\micha\\appdata\\local\\packages\\pythonsoftwarefoundation.python.3.12_qbz5n2kfra8p0\\localcache\\local-packages\\python312\\site-packages (from wolframalpha) (6.0.1)\n",
      "Requirement already satisfied: httpx in c:\\users\\micha\\appdata\\local\\packages\\pythonsoftwarefoundation.python.3.12_qbz5n2kfra8p0\\localcache\\local-packages\\python312\\site-packages (from wolframalpha) (0.27.0)\n",
      "Requirement already satisfied: multidict in c:\\users\\micha\\appdata\\local\\packages\\pythonsoftwarefoundation.python.3.12_qbz5n2kfra8p0\\localcache\\local-packages\\python312\\site-packages (from wolframalpha) (6.1.0)\n",
      "Requirement already satisfied: anyio in c:\\users\\micha\\appdata\\local\\packages\\pythonsoftwarefoundation.python.3.12_qbz5n2kfra8p0\\localcache\\local-packages\\python312\\site-packages (from httpx->wolframalpha) (4.4.0)\n",
      "Requirement already satisfied: certifi in c:\\users\\micha\\appdata\\local\\packages\\pythonsoftwarefoundation.python.3.12_qbz5n2kfra8p0\\localcache\\local-packages\\python312\\site-packages (from httpx->wolframalpha) (2024.6.2)\n",
      "Requirement already satisfied: httpcore==1.* in c:\\users\\micha\\appdata\\local\\packages\\pythonsoftwarefoundation.python.3.12_qbz5n2kfra8p0\\localcache\\local-packages\\python312\\site-packages (from httpx->wolframalpha) (1.0.5)\n",
      "Requirement already satisfied: idna in c:\\users\\micha\\appdata\\local\\packages\\pythonsoftwarefoundation.python.3.12_qbz5n2kfra8p0\\localcache\\local-packages\\python312\\site-packages (from httpx->wolframalpha) (3.7)\n",
      "Requirement already satisfied: sniffio in c:\\users\\micha\\appdata\\local\\packages\\pythonsoftwarefoundation.python.3.12_qbz5n2kfra8p0\\localcache\\local-packages\\python312\\site-packages (from httpx->wolframalpha) (1.3.1)\n",
      "Requirement already satisfied: h11<0.15,>=0.13 in c:\\users\\micha\\appdata\\local\\packages\\pythonsoftwarefoundation.python.3.12_qbz5n2kfra8p0\\localcache\\local-packages\\python312\\site-packages (from httpcore==1.*->httpx->wolframalpha) (0.14.0)\n",
      "Note: you may need to restart the kernel to use updated packages.\n"
     ]
    },
    {
     "name": "stderr",
     "output_type": "stream",
     "text": [
      "\n",
      "[notice] A new release of pip is available: 24.2 -> 24.3.1\n",
      "[notice] To update, run: C:\\Users\\micha\\AppData\\Local\\Microsoft\\WindowsApps\\PythonSoftwareFoundation.Python.3.12_qbz5n2kfra8p0\\python.exe -m pip install --upgrade pip\n"
     ]
    }
   ],
   "source": [
    "pip install wolframalpha"
   ]
  },
  {
   "cell_type": "code",
   "execution_count": 8,
   "metadata": {},
   "outputs": [
    {
     "name": "stdout",
     "output_type": "stream",
     "text": [
      "Defaulting to user installation because normal site-packages is not writeable\n",
      "Requirement already satisfied: wikipedia in c:\\users\\micha\\appdata\\local\\packages\\pythonsoftwarefoundation.python.3.12_qbz5n2kfra8p0\\localcache\\local-packages\\python312\\site-packages (1.4.0)\n",
      "Requirement already satisfied: beautifulsoup4 in c:\\users\\micha\\appdata\\local\\packages\\pythonsoftwarefoundation.python.3.12_qbz5n2kfra8p0\\localcache\\local-packages\\python312\\site-packages (from wikipedia) (4.12.3)\n",
      "Requirement already satisfied: requests<3.0.0,>=2.0.0 in c:\\users\\micha\\appdata\\local\\packages\\pythonsoftwarefoundation.python.3.12_qbz5n2kfra8p0\\localcache\\local-packages\\python312\\site-packages (from wikipedia) (2.32.3)\n",
      "Requirement already satisfied: charset-normalizer<4,>=2 in c:\\users\\micha\\appdata\\local\\packages\\pythonsoftwarefoundation.python.3.12_qbz5n2kfra8p0\\localcache\\local-packages\\python312\\site-packages (from requests<3.0.0,>=2.0.0->wikipedia) (3.3.2)\n",
      "Requirement already satisfied: idna<4,>=2.5 in c:\\users\\micha\\appdata\\local\\packages\\pythonsoftwarefoundation.python.3.12_qbz5n2kfra8p0\\localcache\\local-packages\\python312\\site-packages (from requests<3.0.0,>=2.0.0->wikipedia) (3.7)\n",
      "Requirement already satisfied: urllib3<3,>=1.21.1 in c:\\users\\micha\\appdata\\local\\packages\\pythonsoftwarefoundation.python.3.12_qbz5n2kfra8p0\\localcache\\local-packages\\python312\\site-packages (from requests<3.0.0,>=2.0.0->wikipedia) (2.2.1)\n",
      "Requirement already satisfied: certifi>=2017.4.17 in c:\\users\\micha\\appdata\\local\\packages\\pythonsoftwarefoundation.python.3.12_qbz5n2kfra8p0\\localcache\\local-packages\\python312\\site-packages (from requests<3.0.0,>=2.0.0->wikipedia) (2024.6.2)\n",
      "Requirement already satisfied: soupsieve>1.2 in c:\\users\\micha\\appdata\\local\\packages\\pythonsoftwarefoundation.python.3.12_qbz5n2kfra8p0\\localcache\\local-packages\\python312\\site-packages (from beautifulsoup4->wikipedia) (2.6)\n",
      "Note: you may need to restart the kernel to use updated packages.\n"
     ]
    },
    {
     "name": "stderr",
     "output_type": "stream",
     "text": [
      "\n",
      "[notice] A new release of pip is available: 24.2 -> 24.3.1\n",
      "[notice] To update, run: C:\\Users\\micha\\AppData\\Local\\Microsoft\\WindowsApps\\PythonSoftwareFoundation.Python.3.12_qbz5n2kfra8p0\\python.exe -m pip install --upgrade pip\n"
     ]
    }
   ],
   "source": [
    "pip install wikipedia"
   ]
  },
  {
   "cell_type": "code",
   "execution_count": 9,
   "metadata": {},
   "outputs": [
    {
     "name": "stdout",
     "output_type": "stream",
     "text": [
      "Defaulting to user installation because normal site-packages is not writeable\n",
      "Requirement already satisfied: SpeechRecognition in c:\\users\\micha\\appdata\\local\\packages\\pythonsoftwarefoundation.python.3.12_qbz5n2kfra8p0\\localcache\\local-packages\\python312\\site-packages (3.11.0)\n",
      "Requirement already satisfied: requests>=2.26.0 in c:\\users\\micha\\appdata\\local\\packages\\pythonsoftwarefoundation.python.3.12_qbz5n2kfra8p0\\localcache\\local-packages\\python312\\site-packages (from SpeechRecognition) (2.32.3)\n",
      "Requirement already satisfied: typing-extensions in c:\\users\\micha\\appdata\\local\\packages\\pythonsoftwarefoundation.python.3.12_qbz5n2kfra8p0\\localcache\\local-packages\\python312\\site-packages (from SpeechRecognition) (4.12.2)\n",
      "Requirement already satisfied: charset-normalizer<4,>=2 in c:\\users\\micha\\appdata\\local\\packages\\pythonsoftwarefoundation.python.3.12_qbz5n2kfra8p0\\localcache\\local-packages\\python312\\site-packages (from requests>=2.26.0->SpeechRecognition) (3.3.2)\n",
      "Requirement already satisfied: idna<4,>=2.5 in c:\\users\\micha\\appdata\\local\\packages\\pythonsoftwarefoundation.python.3.12_qbz5n2kfra8p0\\localcache\\local-packages\\python312\\site-packages (from requests>=2.26.0->SpeechRecognition) (3.7)\n",
      "Requirement already satisfied: urllib3<3,>=1.21.1 in c:\\users\\micha\\appdata\\local\\packages\\pythonsoftwarefoundation.python.3.12_qbz5n2kfra8p0\\localcache\\local-packages\\python312\\site-packages (from requests>=2.26.0->SpeechRecognition) (2.2.1)\n",
      "Requirement already satisfied: certifi>=2017.4.17 in c:\\users\\micha\\appdata\\local\\packages\\pythonsoftwarefoundation.python.3.12_qbz5n2kfra8p0\\localcache\\local-packages\\python312\\site-packages (from requests>=2.26.0->SpeechRecognition) (2024.6.2)\n",
      "Note: you may need to restart the kernel to use updated packages.\n"
     ]
    },
    {
     "name": "stderr",
     "output_type": "stream",
     "text": [
      "\n",
      "[notice] A new release of pip is available: 24.2 -> 24.3.1\n",
      "[notice] To update, run: C:\\Users\\micha\\AppData\\Local\\Microsoft\\WindowsApps\\PythonSoftwareFoundation.Python.3.12_qbz5n2kfra8p0\\python.exe -m pip install --upgrade pip\n"
     ]
    }
   ],
   "source": [
    "pip install SpeechRecognition"
   ]
  },
  {
   "cell_type": "code",
   "execution_count": 10,
   "metadata": {},
   "outputs": [
    {
     "name": "stdout",
     "output_type": "stream",
     "text": [
      "Note: you may need to restart the kernel to use updated packages.Defaulting to user installation because normal site-packages is not writeable\n",
      "Requirement already satisfied: ecapture in c:\\users\\micha\\appdata\\local\\packages\\pythonsoftwarefoundation.python.3.12_qbz5n2kfra8p0\\localcache\\local-packages\\python312\\site-packages (2.0.2)\n",
      "Requirement already satisfied: opencv-python in c:\\users\\micha\\appdata\\local\\packages\\pythonsoftwarefoundation.python.3.12_qbz5n2kfra8p0\\localcache\\local-packages\\python312\\site-packages (from ecapture) (4.10.0.84)\n",
      "Requirement already satisfied: numpy>=1.21.2 in c:\\users\\micha\\appdata\\local\\packages\\pythonsoftwarefoundation.python.3.12_qbz5n2kfra8p0\\localcache\\local-packages\\python312\\site-packages (from opencv-python->ecapture) (1.26.4)\n",
      "\n"
     ]
    },
    {
     "name": "stderr",
     "output_type": "stream",
     "text": [
      "\n",
      "[notice] A new release of pip is available: 24.2 -> 24.3.1\n",
      "[notice] To update, run: C:\\Users\\micha\\AppData\\Local\\Microsoft\\WindowsApps\\PythonSoftwareFoundation.Python.3.12_qbz5n2kfra8p0\\python.exe -m pip install --upgrade pip\n"
     ]
    }
   ],
   "source": [
    "pip install ecapture"
   ]
  },
  {
   "cell_type": "code",
   "execution_count": 11,
   "metadata": {},
   "outputs": [
    {
     "name": "stdout",
     "output_type": "stream",
     "text": [
      "Defaulting to user installation because normal site-packages is not writeable\n",
      "Collecting twilio\n",
      "  Using cached twilio-9.3.6-py2.py3-none-any.whl.metadata (12 kB)\n",
      "Requirement already satisfied: requests>=2.0.0 in c:\\users\\micha\\appdata\\local\\packages\\pythonsoftwarefoundation.python.3.12_qbz5n2kfra8p0\\localcache\\local-packages\\python312\\site-packages (from twilio) (2.32.3)\n",
      "Requirement already satisfied: PyJWT<3.0.0,>=2.0.0 in c:\\users\\micha\\appdata\\local\\packages\\pythonsoftwarefoundation.python.3.12_qbz5n2kfra8p0\\localcache\\local-packages\\python312\\site-packages (from twilio) (2.9.0)\n",
      "Requirement already satisfied: aiohttp>=3.8.4 in c:\\users\\micha\\appdata\\local\\packages\\pythonsoftwarefoundation.python.3.12_qbz5n2kfra8p0\\localcache\\local-packages\\python312\\site-packages (from twilio) (3.10.10)\n",
      "Requirement already satisfied: aiohttp-retry>=2.8.3 in c:\\users\\micha\\appdata\\local\\packages\\pythonsoftwarefoundation.python.3.12_qbz5n2kfra8p0\\localcache\\local-packages\\python312\\site-packages (from twilio) (2.9.0)\n",
      "Requirement already satisfied: aiohappyeyeballs>=2.3.0 in c:\\users\\micha\\appdata\\local\\packages\\pythonsoftwarefoundation.python.3.12_qbz5n2kfra8p0\\localcache\\local-packages\\python312\\site-packages (from aiohttp>=3.8.4->twilio) (2.4.3)\n",
      "Requirement already satisfied: aiosignal>=1.1.2 in c:\\users\\micha\\appdata\\local\\packages\\pythonsoftwarefoundation.python.3.12_qbz5n2kfra8p0\\localcache\\local-packages\\python312\\site-packages (from aiohttp>=3.8.4->twilio) (1.3.1)\n",
      "Requirement already satisfied: attrs>=17.3.0 in c:\\users\\micha\\appdata\\local\\packages\\pythonsoftwarefoundation.python.3.12_qbz5n2kfra8p0\\localcache\\local-packages\\python312\\site-packages (from aiohttp>=3.8.4->twilio) (24.2.0)\n",
      "Requirement already satisfied: frozenlist>=1.1.1 in c:\\users\\micha\\appdata\\local\\packages\\pythonsoftwarefoundation.python.3.12_qbz5n2kfra8p0\\localcache\\local-packages\\python312\\site-packages (from aiohttp>=3.8.4->twilio) (1.5.0)\n",
      "Requirement already satisfied: multidict<7.0,>=4.5 in c:\\users\\micha\\appdata\\local\\packages\\pythonsoftwarefoundation.python.3.12_qbz5n2kfra8p0\\localcache\\local-packages\\python312\\site-packages (from aiohttp>=3.8.4->twilio) (6.1.0)\n",
      "Requirement already satisfied: yarl<2.0,>=1.12.0 in c:\\users\\micha\\appdata\\local\\packages\\pythonsoftwarefoundation.python.3.12_qbz5n2kfra8p0\\localcache\\local-packages\\python312\\site-packages (from aiohttp>=3.8.4->twilio) (1.17.1)\n",
      "Requirement already satisfied: charset-normalizer<4,>=2 in c:\\users\\micha\\appdata\\local\\packages\\pythonsoftwarefoundation.python.3.12_qbz5n2kfra8p0\\localcache\\local-packages\\python312\\site-packages (from requests>=2.0.0->twilio) (3.3.2)\n",
      "Requirement already satisfied: idna<4,>=2.5 in c:\\users\\micha\\appdata\\local\\packages\\pythonsoftwarefoundation.python.3.12_qbz5n2kfra8p0\\localcache\\local-packages\\python312\\site-packages (from requests>=2.0.0->twilio) (3.7)\n",
      "Requirement already satisfied: urllib3<3,>=1.21.1 in c:\\users\\micha\\appdata\\local\\packages\\pythonsoftwarefoundation.python.3.12_qbz5n2kfra8p0\\localcache\\local-packages\\python312\\site-packages (from requests>=2.0.0->twilio) (2.2.1)\n",
      "Requirement already satisfied: certifi>=2017.4.17 in c:\\users\\micha\\appdata\\local\\packages\\pythonsoftwarefoundation.python.3.12_qbz5n2kfra8p0\\localcache\\local-packages\\python312\\site-packages (from requests>=2.0.0->twilio) (2024.6.2)\n",
      "Requirement already satisfied: propcache>=0.2.0 in c:\\users\\micha\\appdata\\local\\packages\\pythonsoftwarefoundation.python.3.12_qbz5n2kfra8p0\\localcache\\local-packages\\python312\\site-packages (from yarl<2.0,>=1.12.0->aiohttp>=3.8.4->twilio) (0.2.0)\n",
      "Using cached twilio-9.3.6-py2.py3-none-any.whl (1.8 MB)\n",
      "Installing collected packages: twilio\n",
      "Note: you may need to restart the kernel to use updated packages.\n"
     ]
    },
    {
     "name": "stderr",
     "output_type": "stream",
     "text": [
      "ERROR: Could not install packages due to an OSError: [Errno 2] No such file or directory: 'C:\\\\Users\\\\micha\\\\AppData\\\\Local\\\\Packages\\\\PythonSoftwareFoundation.Python.3.12_qbz5n2kfra8p0\\\\LocalCache\\\\local-packages\\\\Python312\\\\site-packages\\\\twilio\\\\rest\\\\api\\\\v2010\\\\account\\\\sip\\\\domain\\\\auth_types\\\\auth_type_registrations\\\\auth_registrations_credential_list_mapping.py'\n",
      "\n",
      "\n",
      "[notice] A new release of pip is available: 24.2 -> 24.3.1\n",
      "[notice] To update, run: C:\\Users\\micha\\AppData\\Local\\Microsoft\\WindowsApps\\PythonSoftwareFoundation.Python.3.12_qbz5n2kfra8p0\\python.exe -m pip install --upgrade pip\n"
     ]
    }
   ],
   "source": [
    "pip install twilio"
   ]
  },
  {
   "cell_type": "code",
   "execution_count": 12,
   "metadata": {},
   "outputs": [
    {
     "name": "stdout",
     "output_type": "stream",
     "text": [
      "Defaulting to user installation because normal site-packages is not writeable\n",
      "Requirement already satisfied: beautifulsoup4 in c:\\users\\micha\\appdata\\local\\packages\\pythonsoftwarefoundation.python.3.12_qbz5n2kfra8p0\\localcache\\local-packages\\python312\\site-packages (4.12.3)\n",
      "Requirement already satisfied: soupsieve>1.2 in c:\\users\\micha\\appdata\\local\\packages\\pythonsoftwarefoundation.python.3.12_qbz5n2kfra8p0\\localcache\\local-packages\\python312\\site-packages (from beautifulsoup4) (2.6)\n",
      "Note: you may need to restart the kernel to use updated packages.\n"
     ]
    },
    {
     "name": "stderr",
     "output_type": "stream",
     "text": [
      "\n",
      "[notice] A new release of pip is available: 24.2 -> 24.3.1\n",
      "[notice] To update, run: C:\\Users\\micha\\AppData\\Local\\Microsoft\\WindowsApps\\PythonSoftwareFoundation.Python.3.12_qbz5n2kfra8p0\\python.exe -m pip install --upgrade pip\n"
     ]
    }
   ],
   "source": [
    "pip install beautifulsoup4"
   ]
  },
  {
   "cell_type": "code",
   "execution_count": 13,
   "metadata": {},
   "outputs": [
    {
     "name": "stdout",
     "output_type": "stream",
     "text": [
      "Defaulting to user installation because normal site-packages is not writeable\n",
      "Requirement already satisfied: pyttsx3==2.71 in c:\\users\\micha\\appdata\\local\\packages\\pythonsoftwarefoundation.python.3.12_qbz5n2kfra8p0\\localcache\\local-packages\\python312\\site-packages (2.71)\n",
      "Requirement already satisfied: pypiwin32 in c:\\users\\micha\\appdata\\local\\packages\\pythonsoftwarefoundation.python.3.12_qbz5n2kfra8p0\\localcache\\local-packages\\python312\\site-packages (from pyttsx3==2.71) (223)\n",
      "Requirement already satisfied: pywin32>=223 in c:\\users\\micha\\appdata\\local\\packages\\pythonsoftwarefoundation.python.3.12_qbz5n2kfra8p0\\localcache\\local-packages\\python312\\site-packages (from pypiwin32->pyttsx3==2.71) (306)\n",
      "Note: you may need to restart the kernel to use updated packages.\n"
     ]
    },
    {
     "name": "stderr",
     "output_type": "stream",
     "text": [
      "\n",
      "[notice] A new release of pip is available: 24.2 -> 24.3.1\n",
      "[notice] To update, run: C:\\Users\\micha\\AppData\\Local\\Microsoft\\WindowsApps\\PythonSoftwareFoundation.Python.3.12_qbz5n2kfra8p0\\python.exe -m pip install --upgrade pip\n"
     ]
    }
   ],
   "source": [
    "pip install pyttsx3==2.71"
   ]
  },
  {
   "cell_type": "code",
   "execution_count": 14,
   "metadata": {},
   "outputs": [
    {
     "name": "stdout",
     "output_type": "stream",
     "text": [
      "Defaulting to user installation because normal site-packages is not writeable\n",
      "Requirement already satisfied: winshell in c:\\users\\micha\\appdata\\local\\packages\\pythonsoftwarefoundation.python.3.12_qbz5n2kfra8p0\\localcache\\local-packages\\python312\\site-packages (0.6)\n",
      "Note: you may need to restart the kernel to use updated packages.\n"
     ]
    },
    {
     "name": "stderr",
     "output_type": "stream",
     "text": [
      "\n",
      "[notice] A new release of pip is available: 24.2 -> 24.3.1\n",
      "[notice] To update, run: C:\\Users\\micha\\AppData\\Local\\Microsoft\\WindowsApps\\PythonSoftwareFoundation.Python.3.12_qbz5n2kfra8p0\\python.exe -m pip install --upgrade pip\n"
     ]
    }
   ],
   "source": [
    "pip install winshell"
   ]
  },
  {
   "cell_type": "code",
   "execution_count": 15,
   "metadata": {},
   "outputs": [
    {
     "name": "stdout",
     "output_type": "stream",
     "text": [
      "Note: you may need to restart the kernel to use updated packages.Defaulting to user installation because normal site-packages is not writeable\n",
      "Requirement already satisfied: pyjokes in c:\\users\\micha\\appdata\\local\\packages\\pythonsoftwarefoundation.python.3.12_qbz5n2kfra8p0\\localcache\\local-packages\\python312\\site-packages (0.8.3)\n",
      "\n"
     ]
    },
    {
     "name": "stderr",
     "output_type": "stream",
     "text": [
      "\n",
      "[notice] A new release of pip is available: 24.2 -> 24.3.1\n",
      "[notice] To update, run: C:\\Users\\micha\\AppData\\Local\\Microsoft\\WindowsApps\\PythonSoftwareFoundation.Python.3.12_qbz5n2kfra8p0\\python.exe -m pip install --upgrade pip\n"
     ]
    }
   ],
   "source": [
    "pip install pyjokes"
   ]
  },
  {
   "cell_type": "code",
   "execution_count": 16,
   "metadata": {},
   "outputs": [
    {
     "name": "stdout",
     "output_type": "stream",
     "text": [
      "Defaulting to user installation because normal site-packages is not writeable\n",
      "Requirement already satisfied: feedparser in c:\\users\\micha\\appdata\\local\\packages\\pythonsoftwarefoundation.python.3.12_qbz5n2kfra8p0\\localcache\\local-packages\\python312\\site-packages (6.0.11)\n",
      "Requirement already satisfied: sgmllib3k in c:\\users\\micha\\appdata\\local\\packages\\pythonsoftwarefoundation.python.3.12_qbz5n2kfra8p0\\localcache\\local-packages\\python312\\site-packages (from feedparser) (1.0.0)\n",
      "Note: you may need to restart the kernel to use updated packages.\n"
     ]
    },
    {
     "name": "stderr",
     "output_type": "stream",
     "text": [
      "\n",
      "[notice] A new release of pip is available: 24.2 -> 24.3.1\n",
      "[notice] To update, run: C:\\Users\\micha\\AppData\\Local\\Microsoft\\WindowsApps\\PythonSoftwareFoundation.Python.3.12_qbz5n2kfra8p0\\python.exe -m pip install --upgrade pip\n"
     ]
    }
   ],
   "source": [
    "pip install feedparser"
   ]
  },
  {
   "cell_type": "code",
   "execution_count": 17,
   "metadata": {},
   "outputs": [
    {
     "name": "stdout",
     "output_type": "stream",
     "text": [
      "Defaulting to user installation because normal site-packages is not writeable\n",
      "Requirement already satisfied: clint in c:\\users\\micha\\appdata\\local\\packages\\pythonsoftwarefoundation.python.3.12_qbz5n2kfra8p0\\localcache\\local-packages\\python312\\site-packages (0.5.1)\n",
      "Requirement already satisfied: args in c:\\users\\micha\\appdata\\local\\packages\\pythonsoftwarefoundation.python.3.12_qbz5n2kfra8p0\\localcache\\local-packages\\python312\\site-packages (from clint) (0.1.0)\n",
      "Note: you may need to restart the kernel to use updated packages.\n"
     ]
    },
    {
     "name": "stderr",
     "output_type": "stream",
     "text": [
      "\n",
      "[notice] A new release of pip is available: 24.2 -> 24.3.1\n",
      "[notice] To update, run: C:\\Users\\micha\\AppData\\Local\\Microsoft\\WindowsApps\\PythonSoftwareFoundation.Python.3.12_qbz5n2kfra8p0\\python.exe -m pip install --upgrade pip\n"
     ]
    }
   ],
   "source": [
    "pip install clint\n"
   ]
  },
  {
   "cell_type": "code",
   "execution_count": 18,
   "metadata": {},
   "outputs": [
    {
     "name": "stdout",
     "output_type": "stream",
     "text": [
      "Defaulting to user installation because normal site-packages is not writeable\n",
      "Requirement already satisfied: pyaudio in c:\\users\\micha\\appdata\\local\\packages\\pythonsoftwarefoundation.python.3.12_qbz5n2kfra8p0\\localcache\\local-packages\\python312\\site-packages (0.2.14)\n",
      "Note: you may need to restart the kernel to use updated packages.\n"
     ]
    },
    {
     "name": "stderr",
     "output_type": "stream",
     "text": [
      "\n",
      "[notice] A new release of pip is available: 24.2 -> 24.3.1\n",
      "[notice] To update, run: C:\\Users\\micha\\AppData\\Local\\Microsoft\\WindowsApps\\PythonSoftwareFoundation.Python.3.12_qbz5n2kfra8p0\\python.exe -m pip install --upgrade pip\n"
     ]
    }
   ],
   "source": [
    "pip install pyaudio"
   ]
  },
  {
   "cell_type": "code",
   "execution_count": 19,
   "metadata": {},
   "outputs": [],
   "source": [
    "import subprocess\n",
    "import wolframalpha\n",
    "import pyttsx3\n",
    "import tkinter\n",
    "import json\n",
    "import random\n",
    "import operator\n",
    "import speech_recognition as sr\n",
    "import datetime\n",
    "import wikipedia\n",
    "import webbrowser\n",
    "import os\n",
    "import winshell\n",
    "import pyjokes\n",
    "import feedparser\n",
    "import smtplib\n",
    "import ctypes\n",
    "import time\n",
    "import requests\n",
    "import shutil\n",
    "from twilio.rest import Client\n",
    "from clint.textui import progress\n",
    "from ecapture import ecapture as ec\n",
    "from bs4 import BeautifulSoup\n",
    "import win32com.client as wincl\n",
    "from urllib.request import urlopen\n"
   ]
  },
  {
   "cell_type": "code",
   "execution_count": 20,
   "metadata": {},
   "outputs": [],
   "source": [
    "engine = pyttsx3.init('sapi5')\n",
    "voices = engine.getProperty('voices')\n",
    "engine.setProperty('voice', voices[1].id)\n"
   ]
  },
  {
   "cell_type": "code",
   "execution_count": 21,
   "metadata": {},
   "outputs": [],
   "source": [
    "def speak(audio):\n",
    "\tengine.say(audio)\n",
    "\tengine.runAndWait()\n",
    "\n",
    "def wishMe():\n",
    "\thour = int(datetime.datetime.now().hour)\n",
    "\tif hour>= 0 and hour<12:\n",
    "\t\tspeak(\"Good Morning Sir !\")\n",
    "\n",
    "\telif hour>= 12 and hour<18:\n",
    "\t\tspeak(\"Good Afternoon Sir !\") \n",
    "\n",
    "\telse:\n",
    "\t\tspeak(\"Good Evening Sir !\") \n",
    "\n",
    "\tassname =(\"Jarvis 1 point o\")\n",
    "\tspeak(\"I am your Assistant\")\n",
    "\tspeak(assname)\n",
    "\t\n",
    "\n",
    "def username():\n",
    "\tspeak(\"What should i call you sir\")\n",
    "\tuname = takeCommand()\n",
    "\tspeak(\"Welcome Mister\")\n",
    "\tspeak(uname)\n",
    "\tcolumns = shutil.get_terminal_size().columns\n",
    "\t\n",
    "\tprint(\"#####################\".center(columns))\n",
    "\tprint(\"Welcome Mr.\", uname.center(columns))\n",
    "\tprint(\"#####################\".center(columns))\n",
    "\t\n",
    "\tspeak(\"How can i Help you, Sir\")\n",
    "\n",
    "def takeCommand():\n",
    "\t\n",
    "\tr = sr.Recognizer()\n",
    "\t\n",
    "\twith sr.Microphone() as source:\n",
    "\t\t\n",
    "\t\tprint(\"Listening...\")\n",
    "\t\tr.pause_threshold = 1\n",
    "\t\taudio = r.listen(source)\n",
    "\n",
    "\ttry:\n",
    "\t\tprint(\"Recognizing...\") \n",
    "\t\tquery = r.recognize_google(audio, language ='en-in')\n",
    "\t\tprint(f\"User said: {query}\\n\")\n",
    "\n",
    "\texcept Exception as e:\n",
    "\t\tprint(e) \n",
    "\t\tprint(\"Unable to Recognize your voice.\") \n",
    "\t\treturn \"None\"\n",
    "\t\n",
    "\treturn query\n",
    "\n",
    "def sendEmail(to, content):\n",
    "\tserver = smtplib.SMTP('smtp.gmail.com', 587)\n",
    "\tserver.ehlo()\n",
    "\tserver.starttls()\n",
    "\t\n",
    "\t# Enable low security in gmail\n",
    "\tserver.login('your email id', 'your email password')\n",
    "\tserver.sendmail('your email id', to, content)\n",
    "\tserver.close()\n"
   ]
  },
  {
   "cell_type": "code",
   "execution_count": null,
   "metadata": {},
   "outputs": [
    {
     "name": "stdout",
     "output_type": "stream",
     "text": [
      "Listening...\n",
      "Recognizing...\n",
      "\n",
      "Unable to Recognize your voice.\n",
      "                             #####################                              \n",
      "Welcome Mr.                                       None                                      \n",
      "                             #####################                              \n",
      "Listening...\n",
      "Recognizing...\n",
      "User said: starting interview preparation\n",
      "\n",
      "Listening...\n",
      "Recognizing...\n",
      "User said: tell me about\n",
      "\n",
      "Listening...\n",
      "Recognizing...\n",
      "User said: interview mode\n",
      "\n",
      "Listening...\n",
      "Recognizing...\n",
      "User said: General\n",
      "\n",
      "Question: Tell me about yourself\n",
      "Listening...\n",
      "Recognizing...\n",
      "User said: I like long walks on the beach\n",
      "\n",
      "Listening...\n"
     ]
    }
   ],
   "source": [
    "if __name__ == '__main__':\n",
    "\tclear = lambda: os.system('cls')\n",
    "\t\n",
    "\t# This Function will clean any\n",
    "\t# command before execution of this python file\n",
    "\tclear()\n",
    "\twishMe()\n",
    "\tusername()\n",
    "\t\n",
    "\twhile True:\n",
    "\t\t\n",
    "\t\tquery = takeCommand().lower()\n",
    "\t\t\n",
    "\t\t# All the commands said by user will be \n",
    "\t\t# stored here in 'query' and will be\n",
    "\t\t# converted to lower case for easily \n",
    "\t\t# recognition of command\n",
    "\t\tif 'wikipedia' in query:\n",
    "\t\t\tspeak('Searching Wikipedia...')\n",
    "\t\t\tquery = query.replace(\"wikipedia\", \"\")\n",
    "\t\t\tresults = wikipedia.summary(query, sentences = 3)\n",
    "\t\t\tspeak(\"According to Wikipedia\")\n",
    "\t\t\tprint(results)\n",
    "\t\t\tspeak(results)\n",
    "\n",
    "\t\telif 'open youtube' in query:\n",
    "\t\t\tspeak(\"Here you go to Youtube\\n\")\n",
    "\t\t\twebbrowser.open(\"youtube.com\")\n",
    "\n",
    "\t\telif 'open google' in query:\n",
    "\t\t\tspeak(\"Here you go to Google\\n\")\n",
    "\t\t\twebbrowser.open(\"google.com\")\n",
    "\n",
    "\t\telif 'open stackoverflow' in query:\n",
    "\t\t\tspeak(\"Here you go to Stack Over flow.Happy coding\")\n",
    "\t\t\twebbrowser.open(\"stackoverflow.com\") \n",
    "\n",
    "\t\telif 'play music' in query or \"play song\" in query:\n",
    "\t\t\tspeak(\"Here you go with music\")\n",
    "\t\t\t# music_dir = \"G:\\\\Song\"\n",
    "\t\t\tmusic_dir = \"C:\\\\Users\\\\GAURAV\\\\Music\"\n",
    "\t\t\tsongs = os.listdir(music_dir)\n",
    "\t\t\tprint(songs) \n",
    "\t\t\trandom = os.startfile(os.path.join(music_dir, songs[1]))\n",
    "\n",
    "\t\telif 'the time' in query:\n",
    "\t\t\tstrTime = datetime.datetime.now().strftime(\"% H:% M:% S\") \n",
    "\t\t\tspeak(f\"Sir, the time is {strTime}\")\n",
    "\n",
    "\t\telif 'open opera' in query:\n",
    "\t\t\tcodePath = r\"C:\\\\Users\\\\GAURAV\\\\AppData\\\\Local\\\\Programs\\\\Opera\\\\launcher.exe\"\n",
    "\t\t\tos.startfile(codePath)\n",
    "\n",
    "\t\telif 'email to gaurav' in query:\n",
    "\t\t\ttry:\n",
    "\t\t\t\tspeak(\"What should I say?\")\n",
    "\t\t\t\tcontent = takeCommand()\n",
    "\t\t\t\tto = \"Receiver email address\"\n",
    "\t\t\t\tsendEmail(to, content)\n",
    "\t\t\t\tspeak(\"Email has been sent !\")\n",
    "\t\t\texcept Exception as e:\n",
    "\t\t\t\tprint(e)\n",
    "\t\t\t\tspeak(\"I am not able to send this email\")\n",
    "\n",
    "\t\telif 'send a mail' in query:\n",
    "\t\t\ttry:\n",
    "\t\t\t\tspeak(\"What should I say?\")\n",
    "\t\t\t\tcontent = takeCommand()\n",
    "\t\t\t\tspeak(\"whome should i send\")\n",
    "\t\t\t\tto = input() \n",
    "\t\t\t\tsendEmail(to, content)\n",
    "\t\t\t\tspeak(\"Email has been sent !\")\n",
    "\t\t\texcept Exception as e:\n",
    "\t\t\t\tprint(e)\n",
    "\t\t\t\tspeak(\"I am not able to send this email\")\n",
    "\n",
    "\t\telif 'how are you' in query:\n",
    "\t\t\tspeak(\"I am fine, Thank you\")\n",
    "\t\t\tspeak(\"How are you, Sir\")\n",
    "\n",
    "\t\telif 'fine' in query or \"good\" in query:\n",
    "\t\t\tspeak(\"It's good to know that your fine\")\n",
    "\n",
    "\t\telif \"change my name to\" in query:\n",
    "\t\t\tquery = query.replace(\"change my name to\", \"\")\n",
    "\t\t\tassname = query\n",
    "\n",
    "\t\telif \"change name\" in query:\n",
    "\t\t\tspeak(\"What would you like to call me, Sir \")\n",
    "\t\t\tassname = takeCommand()\n",
    "\t\t\tspeak(\"Thanks for naming me\")\n",
    "\n",
    "\t\telif \"what's your name\" in query or \"What is your name\" in query:\n",
    "\t\t\tspeak(\"My friends call me\")\n",
    "\t\t\tspeak(assname)\n",
    "\t\t\tprint(\"My friends call me\", assname)\n",
    "\n",
    "\t\telif 'exit' in query:\n",
    "\t\t\tspeak(\"Thanks for giving me your time\")\n",
    "\t\t\texit()\n",
    "\n",
    "\t\telif \"who made you\" in query or \"who created you\" in query: \n",
    "\t\t\tspeak(\"I have been created by Gaurav.\")\n",
    "\t\t\t\n",
    "\t\telif 'joke' in query:\n",
    "\t\t\tspeak(pyjokes.get_joke())\n",
    "\t\t\t\n",
    "\t\telif \"calculate\" in query: \n",
    "\t\t\t\n",
    "\t\t\tapp_id = \"Wolframalpha api id\"\n",
    "\t\t\tclient = wolframalpha.Client(app_id)\n",
    "\t\t\tindx = query.lower().split().index('calculate') \n",
    "\t\t\tquery = query.split()[indx + 1:] \n",
    "\t\t\tres = client.query(' '.join(query)) \n",
    "\t\t\tanswer = next(res.results).text\n",
    "\t\t\tprint(\"The answer is \" + answer) \n",
    "\t\t\tspeak(\"The answer is \" + answer) \n",
    "\n",
    "\t\telif 'search' in query or 'play' in query:\n",
    "\t\t\t\n",
    "\t\t\tquery = query.replace(\"search\", \"\") \n",
    "\t\t\tquery = query.replace(\"play\", \"\")\t\t \n",
    "\t\t\twebbrowser.open(query) \n",
    "\n",
    "\t\telif \"who i am\" in query:\n",
    "\t\t\tspeak(\"If you talk then definitely your human.\")\n",
    "\n",
    "\t\telif \"why you came to world\" in query:\n",
    "\t\t\tspeak(\"Thanks to Gaurav. further It's a secret\")\n",
    "\n",
    "\t\telif 'power point presentation' in query:\n",
    "\t\t\tspeak(\"opening Power Point presentation\")\n",
    "\t\t\tpower = r\"C:\\\\Users\\\\GAURAV\\\\Desktop\\\\Minor Project\\\\Presentation\\\\Voice Assistant.pptx\"\n",
    "\t\t\tos.startfile(power)\n",
    "\n",
    "\t\telif 'is love' in query:\n",
    "\t\t\tspeak(\"It is 7th sense that destroy all other senses\")\n",
    "\n",
    "\t\telif \"who are you\" in query:\n",
    "\t\t\tspeak(\"I am your virtual assistant created by Gaurav\")\n",
    "\n",
    "\t\telif 'reason for you' in query:\n",
    "\t\t\tspeak(\"I was created as a Minor project by Mister Gaurav \")\n",
    "\n",
    "\t\telif 'change background' in query:\n",
    "\t\t\tctypes.windll.user32.SystemParametersInfoW(20, \n",
    "\t\t\t\t\t\t\t\t\t\t\t\t\t0, \n",
    "\t\t\t\t\t\t\t\t\t\t\t\t\t\"Location of wallpaper\",\n",
    "\t\t\t\t\t\t\t\t\t\t\t\t\t0)\n",
    "\t\t\tspeak(\"Background changed successfully\")\n",
    "\n",
    "\t\telif 'open bluestack' in query:\n",
    "\t\t\tappli = r\"C:\\\\ProgramData\\\\BlueStacks\\\\Client\\\\Bluestacks.exe\"\n",
    "\t\t\tos.startfile(appli)\n",
    "\n",
    "\t\telif 'news' in query:\n",
    "\t\t\t\n",
    "\t\t\ttry: \n",
    "\t\t\t\tjsonObj = urlopen('''https://newsapi.org / v1 / articles?source = the-times-of-india&sortBy = top&apiKey =\\\\times of India Api key\\\\''')\n",
    "\t\t\t\tdata = json.load(jsonObj)\n",
    "\t\t\t\ti = 1\n",
    "\t\t\t\t\n",
    "\t\t\t\tspeak('here are some top news from the times of india')\n",
    "\t\t\t\tprint('''=============== TIMES OF INDIA ============'''+ '\\n')\n",
    "\t\t\t\t\n",
    "\t\t\t\tfor item in data['articles']:\n",
    "\t\t\t\t\t\n",
    "\t\t\t\t\tprint(str(i) + '. ' + item['title'] + '\\n')\n",
    "\t\t\t\t\tprint(item['description'] + '\\n')\n",
    "\t\t\t\t\tspeak(str(i) + '. ' + item['title'] + '\\n')\n",
    "\t\t\t\t\ti += 1\n",
    "\t\t\texcept Exception as e:\n",
    "\t\t\t\t\n",
    "\t\t\t\tprint(str(e))\n",
    "\n",
    "\t\t\n",
    "\t\telif 'lock window' in query:\n",
    "\t\t\t\tspeak(\"locking the device\")\n",
    "\t\t\t\tctypes.windll.user32.LockWorkStation()\n",
    "\n",
    "\t\telif 'shutdown system' in query:\n",
    "\t\t\t\tspeak(\"Hold On a Sec ! Your system is on its way to shut down\")\n",
    "\t\t\t\tsubprocess.call('shutdown / p /f')\n",
    "\t\t\t\t\n",
    "\t\telif 'empty recycle bin' in query:\n",
    "\t\t\twinshell.recycle_bin().empty(confirm = False, show_progress = False, sound = True)\n",
    "\t\t\tspeak(\"Recycle Bin Recycled\")\n",
    "\n",
    "\t\telif \"don't listen\" in query or \"stop listening\" in query:\n",
    "\t\t\tspeak(\"for how much time you want to stop jarvis from listening commands\")\n",
    "\t\t\ta = int(takeCommand())\n",
    "\t\t\ttime.sleep(a)\n",
    "\t\t\tprint(a)\n",
    "\n",
    "\t\telif \"where is\" in query:\n",
    "\t\t\tquery = query.replace(\"where is\", \"\")\n",
    "\t\t\tlocation = query\n",
    "\t\t\tspeak(\"User asked to Locate\")\n",
    "\t\t\tspeak(location)\n",
    "\t\t\twebbrowser.open(\"https://www.google.nl / maps / place/\" + location + \"\")\n",
    "\n",
    "\t\telif \"camera\" in query or \"take a photo\" in query:\n",
    "\t\t\tec.capture(0, \"Jarvis Camera \", \"img.jpg\")\n",
    "\n",
    "\t\telif \"restart\" in query:\n",
    "\t\t\tsubprocess.call([\"shutdown\", \"/r\"])\n",
    "\t\t\t\n",
    "\t\telif \"hibernate\" in query or \"sleep\" in query:\n",
    "\t\t\tspeak(\"Hibernating\")\n",
    "\t\t\tsubprocess.call(\"shutdown / h\")\n",
    "\n",
    "\t\telif \"log off\" in query or \"sign out\" in query:\n",
    "\t\t\tspeak(\"Make sure all the application are closed before sign-out\")\n",
    "\t\t\ttime.sleep(5)\n",
    "\t\t\tsubprocess.call([\"shutdown\", \"/l\"])\n",
    "\n",
    "\t\telif \"write a note\" in query:\n",
    "\t\t\tspeak(\"What should i write, sir\")\n",
    "\t\t\tnote = takeCommand()\n",
    "\t\t\tfile = open('jarvis.txt', 'w')\n",
    "\t\t\tspeak(\"Sir, Should i include date and time\")\n",
    "\t\t\tsnfm = takeCommand()\n",
    "\t\t\tif 'yes' in snfm or 'sure' in snfm:\n",
    "\t\t\t\tstrTime = datetime.datetime.now().strftime(\"% H:% M:% S\")\n",
    "\t\t\t\tfile.write(strTime)\n",
    "\t\t\t\tfile.write(\" :- \")\n",
    "\t\t\t\tfile.write(note)\n",
    "\t\t\telse:\n",
    "\t\t\t\tfile.write(note)\n",
    "\t\t\n",
    "\t\telif \"show note\" in query:\n",
    "\t\t\tspeak(\"Showing Notes\")\n",
    "\t\t\tfile = open(\"jarvis.txt\", \"r\") \n",
    "\t\t\tprint(file.read())\n",
    "\t\t\tspeak(file.read(6))\n",
    "\n",
    "\t\telif \"update assistant\" in query:\n",
    "\t\t\tspeak(\"After downloading file please replace this file with the downloaded one\")\n",
    "\t\t\turl = '# url after uploading file'\n",
    "\t\t\tr = requests.get(url, stream = True)\n",
    "\t\t\t\n",
    "\t\t\twith open(\"Voice.py\", \"wb\") as Pypdf:\n",
    "\t\t\t\t\n",
    "\t\t\t\ttotal_length = int(r.headers.get('content-length'))\n",
    "\t\t\t\t\n",
    "\t\t\t\tfor ch in progress.bar(r.iter_content(chunk_size = 2391975),\n",
    "\t\t\t\t\t\t\t\t\texpected_size =(total_length / 1024) + 1):\n",
    "\t\t\t\t\tif ch:\n",
    "\t\t\t\t\t\tPypdf.write(ch)\n",
    "\t\t\t\t\t\n",
    "\t\t# NPPR9-FWDCX-D2C8J-H872K-2YT43\n",
    "\t\telif \"jarvis\" in query:\n",
    "\t\t\t\n",
    "\t\t\twishMe()\n",
    "\t\t\tspeak(\"Jarvis 1 point o in your service Mister\")\n",
    "\t\t\tspeak(assname)\n",
    "\n",
    "\t\telif \"weather\" in query:\n",
    "\t\t\t\n",
    "\t\t\t# Google Open weather website\n",
    "\t\t\t# to get API of Open weather \n",
    "\t\t\tapi_key = \"Api key\"\n",
    "\t\t\tbase_url = \"http://api.openweathermap.org / data / 2.5 / weather?\"\n",
    "\t\t\tspeak(\" City name \")\n",
    "\t\t\tprint(\"City name : \")\n",
    "\t\t\tcity_name = takeCommand()\n",
    "\t\t\tcomplete_url = base_url + \"appid =\" + api_key + \"&q =\" + city_name\n",
    "\t\t\tresponse = requests.get(complete_url) \n",
    "\t\t\tx = response.json() \n",
    "\t\t\t\n",
    "\t\t\tif x[\"code\"] != \"404\": \n",
    "\t\t\t\ty = x[\"main\"] \n",
    "\t\t\t\tcurrent_temperature = y[\"temp\"] \n",
    "\t\t\t\tcurrent_pressure = y[\"pressure\"] \n",
    "\t\t\t\tcurrent_humidiy = y[\"humidity\"] \n",
    "\t\t\t\tz = x[\"weather\"] \n",
    "\t\t\t\tweather_description = z[0][\"description\"] \n",
    "\t\t\t\tprint(\" Temperature (in kelvin unit) = \" +str(current_temperature)+\"\\n atmospheric pressure (in hPa unit) =\"+str(current_pressure) +\"\\n humidity (in percentage) = \" +str(current_humidiy) +\"\\n description = \" +str(weather_description)) \n",
    "\t\t\t\n",
    "\t\t\telse: \n",
    "\t\t\t\tspeak(\" City Not Found \")\n",
    "\t\t\t\n",
    "\t\telif \"send message \" in query:\n",
    "\t\t\t\t# You need to create an account on Twilio to use this service\n",
    "\t\t\t\taccount_sid = 'Account Sid key'\n",
    "\t\t\t\tauth_token = 'Auth token'\n",
    "\t\t\t\tclient = Client(account_sid, auth_token)\n",
    "\n",
    "\t\t\t\tmessage = client.messages \\\n",
    "\t\t\t\t\t\t\t\t.create(\n",
    "\t\t\t\t\t\t\t\t\tbody = takeCommand(),\n",
    "\t\t\t\t\t\t\t\t\tfrom_='Sender No',\n",
    "\t\t\t\t\t\t\t\t\tto ='Receiver No'\n",
    "\t\t\t\t\t\t\t\t)\n",
    "\n",
    "\t\t\t\tprint(message.sid)\n",
    "\n",
    "\t\telif \"wikipedia\" in query:\n",
    "\t\t\twebbrowser.open(\"wikipedia.com\")\n",
    "\n",
    "\t\telif \"Good Morning\" in query:\n",
    "\t\t\tspeak(\"A warm\" +query)\n",
    "\t\t\tspeak(\"How are you Mister\")\n",
    "\t\t\tspeak(assname)\n",
    "\n",
    "\t\t# most asked question from google Assistant\n",
    "\t\telif \"will you be my gf\" in query or \"will you be my bf\" in query: \n",
    "\t\t\tspeak(\"I'm not sure about, may be you should give me some time\")\n",
    "\n",
    "\t\telif \"how are you\" in query:\n",
    "\t\t\tspeak(\"I'm fine, glad you me that\")\n",
    "\n",
    "\t\telif \"i love you\" in query:\n",
    "\t\t\tspeak(\"It's hard to understand\")\n",
    "\n",
    "\t\telif \"what is\" in query or \"who is\" in query:\n",
    "\t\t\t\n",
    "\t\t\t# Use the same API key \n",
    "\t\t\t# that we have generated earlier\n",
    "\t\t\tclient = wolframalpha.Client(\"API_ID\")\n",
    "\t\t\tres = client.query(query)\n",
    "\t\t\t\n",
    "\t\t\ttry:\n",
    "\t\t\t\tprint (next(res.results).text)\n",
    "\t\t\t\tspeak (next(res.results).text)\n",
    "\t\t\texcept StopIteration:\n",
    "\t\t\t\tprint (\"No results\")\n",
    "\t\telif 'interview mode' in query:\n",
    "\t\t\tspeak(\"Starting interview preparation mode. What type of interview would you like to practice?\")\n",
    "\t\t\tinterview_type = takeCommand().lower()\n",
    "\t\t\t\n",
    "\t\t\tinterview_questions = {\n",
    "\t\t\t\t'general': [\n",
    "\t\t\t\t\t\"Tell me about yourself\",\n",
    "\t\t\t\t\t\"What are your greatest strengths?\",\n",
    "\t\t\t\t\t\"What are your weaknesses?\",\n",
    "\t\t\t\t\t\"Where do you see yourself in 5 years?\",\n",
    "\t\t\t\t\t\"Why should we hire you?\",\n",
    "\t\t\t\t\t\"Why do you want to work here?\"\n",
    "\t\t\t\t],\n",
    "\t\t\t\t'technical': [\n",
    "\t\t\t\t\t\"Explain object-oriented programming\",\n",
    "\t\t\t\t\t\"What is the difference between lists and tuples in Python?\",\n",
    "\t\t\t\t\t\"Explain the concept of inheritance\",\n",
    "\t\t\t\t\t\"What is the difference between SQL and NoSQL databases?\",\n",
    "\t\t\t\t\t\"Explain REST API\",\n",
    "\t\t\t\t\t\"What are design patterns?\"\n",
    "\t\t\t\t],\n",
    "\t\t\t\t'behavioral': [\n",
    "\t\t\t\t\t\"Tell me about a time you faced a challenging situation at work\",\n",
    "\t\t\t\t\t\"How do you handle conflict with coworkers?\",\n",
    "\t\t\t\t\t\"Describe a project you're most proud of\",\n",
    "\t\t\t\t\t\"How do you handle pressure and stress?\",\n",
    "\t\t\t\t\t\"Give an example of how you set goals and achieve them\",\n",
    "\t\t\t\t\t\"Tell me about a time you failed and what you learned\"\n",
    "\t\t\t\t]\n",
    "\t\t\t}\n",
    "\t\t\t\n",
    "\t\t\tif interview_type in interview_questions:\n",
    "\t\t\t\tspeak(f\"I will ask you {interview_type} interview questions. Answer them out loud for practice.\")\n",
    "\t\t\t\tfor question in interview_questions[interview_type]:\n",
    "\t\t\t\t\tspeak(question)\n",
    "\t\t\t\t\tprint(\"Question:\", question)\n",
    "\t\t\t\t\tspeak(\"Take your time to answer. Say 'next question' when ready to continue\")\n",
    "\t\t\t\t\t\n",
    "\t\t\t\t\twhile True:\n",
    "\t\t\t\t\t\tresponse = takeCommand().lower()\n",
    "\t\t\t\t\t\tif 'next question' in response:\n",
    "\t\t\t\t\t\t\tbreak\n",
    "\t\t\t\t\t\telif 'stop interview' in response:\n",
    "\t\t\t\t\t\t\tspeak(\"Ending interview practice session\")\n",
    "\t\t\t\t\t\t\tbreak\n",
    "\t\t\telse:\n",
    "\t\t\t\tspeak(\"I support general, technical, and behavioral interview practice. Please specify one of these types.\")\n",
    "\n",
    "\t\t# elif \"\" in query:\n",
    "\t\t\t# Command go here\n",
    "\t\t\t# For adding more commands\n"
   ]
  },
  {
   "cell_type": "code",
   "execution_count": null,
   "metadata": {},
   "outputs": [],
   "source": []
  },
  {
   "cell_type": "code",
   "execution_count": null,
   "metadata": {},
   "outputs": [],
   "source": []
  },
  {
   "cell_type": "code",
   "execution_count": null,
   "metadata": {},
   "outputs": [],
   "source": []
  },
  {
   "cell_type": "code",
   "execution_count": null,
   "metadata": {},
   "outputs": [],
   "source": []
  },
  {
   "cell_type": "code",
   "execution_count": null,
   "metadata": {},
   "outputs": [],
   "source": []
  },
  {
   "cell_type": "code",
   "execution_count": null,
   "metadata": {},
   "outputs": [],
   "source": []
  },
  {
   "cell_type": "code",
   "execution_count": null,
   "metadata": {},
   "outputs": [],
   "source": []
  },
  {
   "cell_type": "code",
   "execution_count": null,
   "metadata": {},
   "outputs": [],
   "source": []
  },
  {
   "cell_type": "code",
   "execution_count": null,
   "metadata": {},
   "outputs": [],
   "source": []
  },
  {
   "cell_type": "code",
   "execution_count": null,
   "metadata": {},
   "outputs": [],
   "source": []
  },
  {
   "cell_type": "code",
   "execution_count": null,
   "metadata": {},
   "outputs": [],
   "source": []
  },
  {
   "cell_type": "code",
   "execution_count": null,
   "metadata": {},
   "outputs": [],
   "source": []
  },
  {
   "cell_type": "code",
   "execution_count": null,
   "metadata": {},
   "outputs": [],
   "source": []
  },
  {
   "cell_type": "code",
   "execution_count": null,
   "metadata": {},
   "outputs": [],
   "source": []
  },
  {
   "cell_type": "code",
   "execution_count": null,
   "metadata": {},
   "outputs": [],
   "source": []
  },
  {
   "cell_type": "code",
   "execution_count": null,
   "metadata": {},
   "outputs": [],
   "source": []
  },
  {
   "cell_type": "code",
   "execution_count": null,
   "metadata": {},
   "outputs": [],
   "source": []
  }
 ],
 "metadata": {
  "kernelspec": {
   "display_name": "Python 3",
   "language": "python",
   "name": "python3"
  },
  "language_info": {
   "codemirror_mode": {
    "name": "ipython",
    "version": 3
   },
   "file_extension": ".py",
   "mimetype": "text/x-python",
   "name": "python",
   "nbconvert_exporter": "python",
   "pygments_lexer": "ipython3",
   "version": "3.12.7"
  }
 },
 "nbformat": 4,
 "nbformat_minor": 2
}
